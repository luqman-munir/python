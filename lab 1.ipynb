{
 "cells": [
  {
   "cell_type": "code",
   "execution_count": 3,
   "id": "db018bad",
   "metadata": {},
   "outputs": [
    {
     "name": "stdout",
     "output_type": "stream",
     "text": [
      "My name is Muhammad Luqman Munir Qazi\n"
     ]
    }
   ],
   "source": [
    "8\n",
    "print('My name is Muhammad Luqman Munir Qazi')"
   ]
  },
  {
   "cell_type": "code",
   "execution_count": 2,
   "id": "94688adc",
   "metadata": {},
   "outputs": [
    {
     "name": "stdout",
     "output_type": "stream",
     "text": [
      "is Muhammad Luqman Munir Qazi\n"
     ]
    }
   ],
   "source": [
    "print(\"is Muhammad Luqman Munir Qazi\")"
   ]
  },
  {
   "cell_type": "code",
   "execution_count": 4,
   "id": "e2c9205b",
   "metadata": {},
   "outputs": [],
   "source": [
    "list1=[1,2,3,4,5]"
   ]
  },
  {
   "cell_type": "code",
   "execution_count": 7,
   "id": "63b88812",
   "metadata": {},
   "outputs": [
    {
     "data": {
      "text/plain": [
       "5"
      ]
     },
     "execution_count": 7,
     "metadata": {},
     "output_type": "execute_result"
    }
   ],
   "source": [
    "list1[4]"
   ]
  },
  {
   "cell_type": "code",
   "execution_count": 9,
   "id": "bc4432d0",
   "metadata": {},
   "outputs": [
    {
     "data": {
      "text/plain": [
       "4"
      ]
     },
     "execution_count": 9,
     "metadata": {},
     "output_type": "execute_result"
    }
   ],
   "source": [
    "list1[3]"
   ]
  },
  {
   "cell_type": "code",
   "execution_count": 13,
   "id": "68c799d6",
   "metadata": {},
   "outputs": [],
   "source": [
    "list1.append('luqman')"
   ]
  },
  {
   "cell_type": "code",
   "execution_count": 14,
   "id": "18b1c617",
   "metadata": {},
   "outputs": [
    {
     "name": "stdout",
     "output_type": "stream",
     "text": [
      "[1, 2, 3, 4, 5, 'luqman', 'luqman']\n"
     ]
    }
   ],
   "source": [
    "print (list1)"
   ]
  },
  {
   "cell_type": "code",
   "execution_count": 15,
   "id": "31688eda",
   "metadata": {},
   "outputs": [],
   "source": [
    "list1.remove(\"luqman\")"
   ]
  },
  {
   "cell_type": "code",
   "execution_count": 16,
   "id": "c0cd00ec",
   "metadata": {},
   "outputs": [
    {
     "name": "stdout",
     "output_type": "stream",
     "text": [
      "[1, 2, 3, 4, 5, 'luqman']\n"
     ]
    }
   ],
   "source": [
    "print (list1)"
   ]
  },
  {
   "cell_type": "code",
   "execution_count": 23,
   "id": "c3bdf79c",
   "metadata": {},
   "outputs": [
    {
     "name": "stdout",
     "output_type": "stream",
     "text": [
      "{'key1': 'luqman', 'key2': 'Qazi'}\n"
     ]
    }
   ],
   "source": [
    "dictionaryl={'key1':'luqman','key2':'Qazi'}\n",
    "print(dictionaryl)"
   ]
  },
  {
   "cell_type": "code",
   "execution_count": null,
   "id": "9b7975c4",
   "metadata": {},
   "outputs": [],
   "source": []
  },
  {
   "cell_type": "code",
   "execution_count": 28,
   "id": "c2f713d8",
   "metadata": {},
   "outputs": [
    {
     "data": {
      "text/plain": [
       "'Qazi'"
      ]
     },
     "execution_count": 28,
     "metadata": {},
     "output_type": "execute_result"
    }
   ],
   "source": [
    "dictionaryl['key2']"
   ]
  },
  {
   "cell_type": "code",
   "execution_count": 30,
   "id": "1dd6046a",
   "metadata": {},
   "outputs": [
    {
     "name": "stdout",
     "output_type": "stream",
     "text": [
      "shams\n"
     ]
    }
   ],
   "source": [
    "if 2>3:\n",
    "    print(\"qazi\")\n",
    "else :\n",
    "    print(\"shams\")"
   ]
  },
  {
   "cell_type": "code",
   "execution_count": 31,
   "id": "cb0da0df",
   "metadata": {},
   "outputs": [],
   "source": [
    "set={1,2,3,4,5,6,6,7,7}"
   ]
  },
  {
   "cell_type": "code",
   "execution_count": 32,
   "id": "ad701472",
   "metadata": {},
   "outputs": [
    {
     "name": "stdout",
     "output_type": "stream",
     "text": [
      "{1, 2, 3, 4, 5, 6, 7}\n"
     ]
    }
   ],
   "source": [
    "print(set)"
   ]
  },
  {
   "cell_type": "code",
   "execution_count": 34,
   "id": "95b8d474",
   "metadata": {},
   "outputs": [
    {
     "data": {
      "text/plain": [
       "[10, 20, 30]"
      ]
     },
     "execution_count": 34,
     "metadata": {},
     "output_type": "execute_result"
    }
   ],
   "source": [
    " mylist=[10,20,30]\n",
    "mylist"
   ]
  },
  {
   "cell_type": "code",
   "execution_count": 35,
   "id": "53bdd435",
   "metadata": {},
   "outputs": [
    {
     "name": "stdout",
     "output_type": "stream",
     "text": [
      "10\n",
      "20\n",
      "30\n"
     ]
    }
   ],
   "source": [
    "for number in mylist:\n",
    "    print(number)"
   ]
  },
  {
   "cell_type": "code",
   "execution_count": 37,
   "id": "a682dad8",
   "metadata": {},
   "outputs": [
    {
     "data": {
      "text/plain": [
       "list[range(1, 10)]"
      ]
     },
     "execution_count": 37,
     "metadata": {},
     "output_type": "execute_result"
    }
   ],
   "source": [
    "list[range(1,10)]"
   ]
  },
  {
   "cell_type": "markdown",
   "id": "3fa4322c",
   "metadata": {},
   "source": [
    "mylist"
   ]
  },
  {
   "cell_type": "code",
   "execution_count": 38,
   "id": "5aa67859",
   "metadata": {},
   "outputs": [
    {
     "data": {
      "text/plain": [
       "[10, 20, 30]"
      ]
     },
     "execution_count": 38,
     "metadata": {},
     "output_type": "execute_result"
    }
   ],
   "source": [
    "mylist"
   ]
  },
  {
   "cell_type": "code",
   "execution_count": 40,
   "id": "3d37d909",
   "metadata": {},
   "outputs": [],
   "source": [
    "newlist=[]\n",
    "for item in mylist:\n",
    "    newlist.append(item*2)"
   ]
  },
  {
   "cell_type": "code",
   "execution_count": 41,
   "id": "8edbc6ab",
   "metadata": {},
   "outputs": [
    {
     "data": {
      "text/plain": [
       "[20, 40, 60]"
      ]
     },
     "execution_count": 41,
     "metadata": {},
     "output_type": "execute_result"
    }
   ],
   "source": [
    "newlist"
   ]
  },
  {
   "cell_type": "code",
   "execution_count": null,
   "id": "52ee2653",
   "metadata": {},
   "outputs": [],
   "source": []
  }
 ],
 "metadata": {
  "kernelspec": {
   "display_name": "Python 3 (ipykernel)",
   "language": "python",
   "name": "python3"
  },
  "language_info": {
   "codemirror_mode": {
    "name": "ipython",
    "version": 3
   },
   "file_extension": ".py",
   "mimetype": "text/x-python",
   "name": "python",
   "nbconvert_exporter": "python",
   "pygments_lexer": "ipython3",
   "version": "3.9.13"
  }
 },
 "nbformat": 4,
 "nbformat_minor": 5
}
